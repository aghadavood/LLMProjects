{
  "nbformat": 4,
  "nbformat_minor": 0,
  "metadata": {
    "colab": {
      "provenance": [],
      "authorship_tag": "ABX9TyM0wd1MSRT04VlhFKyQny8w",
      "include_colab_link": true
    },
    "kernelspec": {
      "name": "python3",
      "display_name": "Python 3"
    },
    "language_info": {
      "name": "python"
    }
  },
  "cells": [
    {
      "cell_type": "markdown",
      "metadata": {
        "id": "view-in-github",
        "colab_type": "text"
      },
      "source": [
        "<a href=\"https://colab.research.google.com/github/aghadavood/LLMProjects/blob/main/chat_qa_persich.ipynb\" target=\"_parent\"><img src=\"https://colab.research.google.com/assets/colab-badge.svg\" alt=\"Open In Colab\"/></a>"
      ]
    },
    {
      "cell_type": "code",
      "source": [
        "%%writefile requirements.txt\n",
        "streamlit\n",
        "faiss-cpu\n",
        "numpy\n",
        "sentence-transformers"
      ],
      "metadata": {
        "colab": {
          "base_uri": "https://localhost:8080/"
        },
        "id": "kSYJoFbHnGeQ",
        "outputId": "5145866c-4a4e-420b-ce78-cd5c5a8f0a55"
      },
      "execution_count": 4,
      "outputs": [
        {
          "output_type": "stream",
          "name": "stdout",
          "text": [
            "Overwriting requirements.txt\n"
          ]
        }
      ]
    },
    {
      "cell_type": "code",
      "execution_count": 3,
      "metadata": {
        "colab": {
          "base_uri": "https://localhost:8080/"
        },
        "id": "U3ZiXiH5mjfW",
        "outputId": "b3f5bb9f-d845-4135-c51f-d2b39730e002"
      },
      "outputs": [
        {
          "output_type": "stream",
          "name": "stdout",
          "text": [
            "Writing app.py\n"
          ]
        }
      ],
      "source": []
    },
    {
      "cell_type": "code",
      "source": [
        "%%writefile app.py\n",
        "\n",
        "import streamlit as st\n",
        "import numpy as np\n",
        "import faiss\n",
        "import pickle\n",
        "from sentence_transformers import SentenceTransformer\n",
        "import os\n",
        "\n",
        "# Load FAISS index\n",
        "\n",
        "# Load FAISS index\n",
        "index = faiss.read_index(\"index.faiss\")\n",
        "\n",
        "# Load metadata\n",
        "with open(\"index.pkl\", \"rb\") as f:\n",
        "    metadata = pickle.load(f)\n",
        "\n",
        "# Initialize the sentence transformer model\n",
        "model = SentenceTransformer('distiluse-base-multilingual-cased-v2')\n",
        "\n",
        "def answer_question(question):\n",
        "    # Encode the question\n",
        "    question_embedding = model.encode([question])[0].astype('float32').reshape(1, -1)\n",
        "\n",
        "    # Perform the search\n",
        "    k = 1  # Number of nearest neighbors to retrieve\n",
        "    distances, indices = index.search(question_embedding, k)\n",
        "\n",
        "    # Get the most similar document\n",
        "    most_similar_index = indices[0][0]\n",
        "\n",
        "    # Return the corresponding abstract\n",
        "    return metadata[most_similar_index]['abstract']\n",
        "\n",
        "# Streamlit UI\n",
        "st.title(\"سیستم پرسش و پاسخ فارسی\")\n",
        "\n",
        "question = st.text_input(\"سوال خود را به فارسی بپرسید:\")\n",
        "\n",
        "if st.button(\"ارسال\"):\n",
        "    if question:\n",
        "        try:\n",
        "            answer = answer_question(question)\n",
        "            st.write(\"پاسخ:\", answer)\n",
        "        except Exception as e:\n",
        "            st.error(f\"متأسفانه مشکلی پیش آمده است: {str(e)}\")\n",
        "    else:\n",
        "        st.warning(\"لطفاً یک سوال وارد کنید.\")"
      ],
      "metadata": {
        "colab": {
          "base_uri": "https://localhost:8080/"
        },
        "id": "0En5sVMkQjMP",
        "outputId": "6b07460a-5910-4e69-93f0-c90ec19fce9a"
      },
      "execution_count": 8,
      "outputs": [
        {
          "output_type": "stream",
          "name": "stdout",
          "text": [
            "Overwriting app.py\n"
          ]
        }
      ]
    },
    {
      "cell_type": "code",
      "source": [
        "!ls"
      ],
      "metadata": {
        "colab": {
          "base_uri": "https://localhost:8080/"
        },
        "id": "rR7LsUypsmF4",
        "outputId": "b674d0f3-3f1e-48a2-e05d-c16ab247542c"
      },
      "execution_count": 7,
      "outputs": [
        {
          "output_type": "stream",
          "name": "stdout",
          "text": [
            "app.py\trequirements.txt  sample_data\n"
          ]
        }
      ]
    }
  ]
}